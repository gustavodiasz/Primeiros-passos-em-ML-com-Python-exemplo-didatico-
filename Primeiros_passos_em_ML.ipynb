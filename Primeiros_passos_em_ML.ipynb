{
  "nbformat": 4,
  "nbformat_minor": 0,
  "metadata": {
    "colab": {
      "name": "Primeiros passos em ML.ipynb",
      "provenance": [],
      "collapsed_sections": [],
      "authorship_tag": "ABX9TyO+Th/ZkJLCv0QNCaDRiI+4",
      "include_colab_link": true
    },
    "kernelspec": {
      "name": "python3",
      "display_name": "Python 3"
    },
    "language_info": {
      "name": "python"
    }
  },
  "cells": [
    {
      "cell_type": "markdown",
      "metadata": {
        "id": "view-in-github",
        "colab_type": "text"
      },
      "source": [
        "<a href=\"https://colab.research.google.com/github/gustavodiasz/Primeiros-passos-em-ML-com-Python-exemplo-didatico-/blob/main/Primeiros_passos_em_ML.ipynb\" target=\"_parent\"><img src=\"https://colab.research.google.com/assets/colab-badge.svg\" alt=\"Open In Colab\"/></a>"
      ]
    },
    {
      "cell_type": "markdown",
      "source": [
        "## Vamos definir algumas caracteristicas para dois animais (porco e cachorro).\n"
      ],
      "metadata": {
        "id": "Mviw1a872bfd"
      }
    },
    {
      "cell_type": "code",
      "source": [
        "# Tem pelo longo? \n",
        "# Tem pata curta?\n",
        "# Faz auau? \n",
        "\n",
        "# Se 'sim' == 1 \n",
        "# Se 'não' == 0\n",
        "\n",
        "porco1 = [0, 1, 0]\n",
        "porco2 = [0, 1, 0] # apenas didatico (sabemos que porco não faz auau)\n",
        "porco3 = [1, 1, 0] # apenas didatico (sabemos que porco não faz auau)\n",
        "\n",
        "cachorro1 = [0, 1, 1]\n",
        "cachorro2 = [1, 0, 1]\n",
        "cachorro3 = [1, 1, 1]\n",
        "\n",
        "# agora vamos unir todos os dados de treino\n",
        "\n",
        "treino_x = [porco1, porco2, porco3, cachorro1, cachorro2, cachorro3]\n",
        "\n",
        "# mostrar a que cada classe pertence cada animal (ou seja: associar o animal cachorro à classe cachorro)\n",
        "\n",
        "treino_y = [1, 1, 1, 0, 0, 0] # 1 porco 0 cachorro \n",
        "\n",
        "# implementando o modelo que irá aprender com as informação de treino_x e treino_y\n",
        "\n",
        "# importando uma biblioteca que já possue algoritimos de ML (scikit-learning)\n",
        "\n",
        "from sklearn.svm import LinearSVC # vamos usar o algoritimo 'linearSVC' \n",
        "\n",
        "modelo = LinearSVC() # interprete essa linha da seguinte forma: o 'LinearSVC é um cérebo vazio\n",
        "                     # e vamos guarda-lo dentro da variável 'modelo'\n",
        "\n",
        "modelo.fit(treino_x, treino_y) # uma vez que dentro de 'modelo' está o cérebro vazio, vamos treina-lo com \n",
        "                               # com os dados de treino_x e teino_y\n",
        " \n"
      ],
      "metadata": {
        "colab": {
          "base_uri": "https://localhost:8080/"
        },
        "id": "yRhswWyX2qx_",
        "outputId": "e6626302-2cf5-4681-ed51-5d1da52e3556"
      },
      "execution_count": 5,
      "outputs": [
        {
          "output_type": "execute_result",
          "data": {
            "text/plain": [
              "LinearSVC()"
            ]
          },
          "metadata": {},
          "execution_count": 5
        }
      ]
    },
    {
      "cell_type": "markdown",
      "source": [
        "# O modelo foi treinado, vamos testar."
      ],
      "metadata": {
        "id": "lXSyzijJ_XFV"
      }
    },
    {
      "cell_type": "code",
      "source": [
        "# vamos declarar um animal do qual ainda não sabemos a classe (se é cachorro ou porco (0 ou 1))\n",
        "\n",
        "animal_misterioso = [1, 0, 1] \n",
        "\n",
        "p = modelo.predict([animal_misterioso]) # essa função predict espera uma lista, então, mesmo sendo apenas uma nimal\n",
        "                                        # temos que por dentro de uma lista.\n",
        "\n",
        "print(p)\n",
        "\n",
        "# a resposa do modelo foi '0' (cachoro) então ele acertou. \n"
      ],
      "metadata": {
        "colab": {
          "base_uri": "https://localhost:8080/"
        },
        "id": "kUGCCqtm_hf1",
        "outputId": "62cca1e0-41e5-4245-f294-03690b1490c1"
      },
      "execution_count": 29,
      "outputs": [
        {
          "output_type": "stream",
          "name": "stdout",
          "text": [
            "[0]\n"
          ]
        }
      ]
    },
    {
      "cell_type": "code",
      "source": [
        "# essa função serve apenas para mostrar que podemos indicar ao usuário a resposta do algorítimo com nomes e não \n",
        "# apenas com 0 ou 1\n",
        "\n",
        "# para isso, criei a seguinte função:\n",
        "\n",
        "def nome(p):\n",
        "\n",
        "    '''\n",
        "    ESSA FUÇÃO SERVE APENAS PARA QUE O MODELO RETORNO O NOME CACHORO OU PORCO\n",
        "\n",
        "    '''\n",
        "    if p == 0:\n",
        "        return 'cachorro'\n",
        "    else:\n",
        "        if p == 1:\n",
        "            return 'porco'\n",
        "\n",
        "print(f'o anamial misterioso é um {nome(p)}')"
      ],
      "metadata": {
        "colab": {
          "base_uri": "https://localhost:8080/"
        },
        "id": "5IE7go9UwGhw",
        "outputId": "e1b060f7-2869-46cd-ab07-8dbbff1ccdaa"
      },
      "execution_count": 30,
      "outputs": [
        {
          "output_type": "stream",
          "name": "stdout",
          "text": [
            "o anamial misterioso é um cachorro\n"
          ]
        }
      ]
    },
    {
      "cell_type": "code",
      "source": [
        "# Note que esse animal com caracteristicas [1, 0, 1] já haviamos mostrado e a ele e dito \n",
        "# a qual classe ele pertence. Então o modelo pode apenas ter decorado que o animal [1, 0 1] é cachorro\n",
        "# e não aprendido de fato. \n",
        "\n",
        "# então vamos dar animais com caracteristicas diferestes das que damos no treinamento (e que sabemos a qual classe pertence) para ver se ele acerta ou erra. \n",
        "\n",
        "misterio1 = [1, 1, 1]\n",
        "misterio2 = [1, 1, 0]\n",
        "misterio3 = [0, 1, 1]\n",
        "\n",
        "teste_x = [misterio1, misterio2, misterio3]\n",
        "teste_y = [0, 1, 1] # resposta correta para classe de cada animal misterioso\n",
        "\n",
        "# vamos verificar quais resultaodo ele nos da quanod passamos o texte_x para ele avaliar. \n",
        "\n",
        "previsoes = modelo.predict(teste_x)\n",
        "print(previsoes)\n",
        "\n",
        "# ele previu [0, 1, 0] então errou uma classe em 3. "
      ],
      "metadata": {
        "colab": {
          "base_uri": "https://localhost:8080/"
        },
        "id": "XANRGZWgBznV",
        "outputId": "60eb51b4-bc6c-4dfc-a6f9-13e0cf8f721c"
      },
      "execution_count": 31,
      "outputs": [
        {
          "output_type": "stream",
          "name": "stdout",
          "text": [
            "[0 1 0]\n"
          ]
        }
      ]
    },
    {
      "cell_type": "markdown",
      "source": [
        "# Vamos agora usar alguns modulos do sklearning para calcular a taxa de acerto do modelo: Acarácia "
      ],
      "metadata": {
        "id": "UDHMf7UbFfho"
      }
    },
    {
      "cell_type": "code",
      "source": [
        "# importando o módulo dentro da biblioteca sklearn\n",
        "\n",
        "from sklearn.metrics import accuracy_score # dentro da bibliotaca estamos pegando o modulos 'metrics' e dentro de metrics estamos peganod o acuracy_score\n",
        "\n",
        "u = accuracy_score(teste_y, previsoes) # interprete assim: chamamos a função e passamos como parâmetros a lista de \n",
        "                                       # valores de teste_y (ou seja, valores com as respostas corretas para cada classe dos misterios)\n",
        "                                       # e o segundo parâmetros são os valores de previsoes que o modelo fez.\n",
        "\n",
        "\n",
        "# ele retornou uma acuracia de 0.66 de acerto                        \n",
        "\n",
        "\n",
        "print(u * 100) # multiplicado por 100 apenas para ficar em %"
      ],
      "metadata": {
        "colab": {
          "base_uri": "https://localhost:8080/"
        },
        "id": "uCiMw15YFqVQ",
        "outputId": "6ae85f83-6d45-45b2-9681-e7dd75197110"
      },
      "execution_count": 34,
      "outputs": [
        {
          "output_type": "stream",
          "name": "stdout",
          "text": [
            "66.66666666666666\n"
          ]
        }
      ]
    }
  ]
}